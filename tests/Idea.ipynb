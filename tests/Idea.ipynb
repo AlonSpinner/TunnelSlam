{
 "cells": [
  {
   "cell_type": "code",
   "execution_count": 17,
   "metadata": {},
   "outputs": [],
   "source": [
    "import symforce\n",
    "\n",
    "symforce.set_backend(\"sympy\")\n",
    "symforce.set_log_level(\"warning\")\n",
    "\n",
    "from symforce import geo\n",
    "import sympy \n",
    "from symforce.ops import StorageOps\n",
    "from symforce.ops import LieGroupOps\n",
    "from symforce.notebook_util import display\n",
    "\n",
    "import numpy as np\n",
    "\n",
    "epsilon = 1e-9"
   ]
  },
  {
   "cell_type": "code",
   "execution_count": 1,
   "metadata": {},
   "outputs": [
    {
     "ename": "AttributeError",
     "evalue": "module 'symforce.geo' has no attribute 'P'",
     "output_type": "error",
     "traceback": [
      "\u001b[0;31m---------------------------------------------------------------------------\u001b[0m",
      "\u001b[0;31mAttributeError\u001b[0m                            Traceback (most recent call last)",
      "Cell \u001b[0;32mIn [1], line 2\u001b[0m\n\u001b[1;32m      1\u001b[0m \u001b[39mfrom\u001b[39;00m \u001b[39msymforce\u001b[39;00m \u001b[39mimport\u001b[39;00m geo\n\u001b[0;32m----> 2\u001b[0m geo\u001b[39m.\u001b[39;49mP\n",
      "\u001b[0;31mAttributeError\u001b[0m: module 'symforce.geo' has no attribute 'P'"
     ]
    }
   ],
   "source": [
    "from symforce import geo\n",
    "test = geo.V3()\n",
    "test.squared_norm"
   ]
  },
  {
   "cell_type": "code",
   "execution_count": 18,
   "metadata": {},
   "outputs": [
    {
     "data": {
      "text/latex": [
       "$\\displaystyle \\left[\\begin{matrix}s^{3} x3.t0 + 3 s^{2} x1.t0 \\left(1 - s\\right)^{2} + 3 s^{2} x2.t0 \\cdot \\left(1 - s\\right) + x0.t0 \\left(1 - s\\right)^{3}\\\\s^{3} x3.t1 + 3 s^{2} x1.t1 \\left(1 - s\\right)^{2} + 3 s^{2} x2.t1 \\cdot \\left(1 - s\\right) + x0.t1 \\left(1 - s\\right)^{3}\\\\s^{3} x3.t2 + 3 s^{2} x1.t2 \\left(1 - s\\right)^{2} + 3 s^{2} x2.t2 \\cdot \\left(1 - s\\right) + x0.t2 \\left(1 - s\\right)^{3}\\end{matrix}\\right]$"
      ],
      "text/plain": [
       "⎡ 3            2              2      2                              3⎤\n",
       "⎢s ⋅x3.t0 + 3⋅s ⋅x1.t0⋅(1 - s)  + 3⋅s ⋅x2.t0⋅(1 - s) + x0.t0⋅(1 - s) ⎥\n",
       "⎢                                                                    ⎥\n",
       "⎢ 3            2              2      2                              3⎥\n",
       "⎢s ⋅x3.t1 + 3⋅s ⋅x1.t1⋅(1 - s)  + 3⋅s ⋅x2.t1⋅(1 - s) + x0.t1⋅(1 - s) ⎥\n",
       "⎢                                                                    ⎥\n",
       "⎢ 3            2              2      2                              3⎥\n",
       "⎣s ⋅x3.t2 + 3⋅s ⋅x1.t2⋅(1 - s)  + 3⋅s ⋅x2.t2⋅(1 - s) + x0.t2⋅(1 - s) ⎦"
      ]
     },
     "metadata": {},
     "output_type": "display_data"
    }
   ],
   "source": [
    "s = sympy.Symbol('s')\n",
    "\n",
    "x0 = geo.Pose3.symbolic(\"x0\")\n",
    "x1 = geo.Pose3.symbolic(\"x1\")\n",
    "x2 = geo.Pose3.symbolic(\"x2\")\n",
    "x3 = geo.Pose3.symbolic(\"x3\")\n",
    "\n",
    "x0t = geo.Vector3(x0.to_tangent()[3:])\n",
    "x1t = geo.Vector3(x1.to_tangent()[3:])\n",
    "x2t = geo.Vector3(x2.to_tangent()[3:])\n",
    "x3t = geo.Vector3(x3.to_tangent()[3:])\n",
    "\n",
    "Lambda  = (1-s)**3 * x0t \\\n",
    "        + 3*s*(1-s)**2 * s * x1t \\\n",
    "        + 3*s**2 * (1-s) * x2t \\\n",
    "        + s**3 * x3t\n",
    "\n",
    "display(Lambda)"
   ]
  },
  {
   "cell_type": "code",
   "execution_count": 20,
   "metadata": {},
   "outputs": [
    {
     "data": {
      "text/latex": [
       "$\\displaystyle \\left[\\begin{matrix}s^{3} x3.t0 + 3 s^{2} x1.t0 \\left(1 - s\\right)^{2} + 3 s^{2} x2.t0 \\cdot \\left(1 - s\\right) + \\left(1 - s\\right)^{3}\\\\s^{3} x3.t1 + 3 s^{2} x1.t1 \\left(1 - s\\right)^{2} + 3 s^{2} x2.t1 \\cdot \\left(1 - s\\right) + 2 \\left(1 - s\\right)^{3}\\\\s^{3} x3.t2 + 3 s^{2} x1.t2 \\left(1 - s\\right)^{2} + 3 s^{2} x2.t2 \\cdot \\left(1 - s\\right) + 3 \\left(1 - s\\right)^{3}\\end{matrix}\\right]$"
      ],
      "text/plain": [
       "⎡  3            2              2      2                        3 ⎤\n",
       "⎢ s ⋅x3.t0 + 3⋅s ⋅x1.t0⋅(1 - s)  + 3⋅s ⋅x2.t0⋅(1 - s) + (1 - s)  ⎥\n",
       "⎢                                                                ⎥\n",
       "⎢ 3            2              2      2                          3⎥\n",
       "⎢s ⋅x3.t1 + 3⋅s ⋅x1.t1⋅(1 - s)  + 3⋅s ⋅x2.t1⋅(1 - s) + 2⋅(1 - s) ⎥\n",
       "⎢                                                                ⎥\n",
       "⎢ 3            2              2      2                          3⎥\n",
       "⎣s ⋅x3.t2 + 3⋅s ⋅x1.t2⋅(1 - s)  + 3⋅s ⋅x2.t2⋅(1 - s) + 3⋅(1 - s) ⎦"
      ]
     },
     "metadata": {},
     "output_type": "display_data"
    }
   ],
   "source": [
    "geo.Vector3(1,2,3)\n",
    "\n",
    "Lambda.subs(x0t,)"
   ]
  },
  {
   "cell_type": "code",
   "execution_count": 52,
   "metadata": {},
   "outputs": [],
   "source": [
    "l0 = geo.Vector3.symbolic('l0')\n",
    "v20 = x2.inverse() * l0\n",
    "r20 = v20.norm()\n",
    "# b20 = v20."
   ]
  },
  {
   "cell_type": "code",
   "execution_count": 53,
   "metadata": {},
   "outputs": [
    {
     "data": {
      "text/latex": [
       "$\\displaystyle \\left[\\begin{matrix}l_{00} \\left(- 2 x2.R_{y}^{2} - 2 x2.R_{z}^{2} + 1\\right) + l_{01} \\cdot \\left(2 x2.R_{w} x2.R_{z} + 2 x2.R_{x} x2.R_{y}\\right) + l_{02} \\left(- 2 x2.R_{w} x2.R_{y} + 2 x2.R_{x} x2.R_{z}\\right) - x2.t0 \\left(- 2 x2.R_{y}^{2} - 2 x2.R_{z}^{2} + 1\\right) - x2.t1 \\cdot \\left(2 x2.R_{w} x2.R_{z} + 2 x2.R_{x} x2.R_{y}\\right) - x2.t2 \\left(- 2 x2.R_{w} x2.R_{y} + 2 x2.R_{x} x2.R_{z}\\right)\\\\l_{00} \\left(- 2 x2.R_{w} x2.R_{z} + 2 x2.R_{x} x2.R_{y}\\right) + l_{01} \\left(- 2 x2.R_{x}^{2} - 2 x2.R_{z}^{2} + 1\\right) + l_{02} \\cdot \\left(2 x2.R_{w} x2.R_{x} + 2 x2.R_{y} x2.R_{z}\\right) - x2.t0 \\left(- 2 x2.R_{w} x2.R_{z} + 2 x2.R_{x} x2.R_{y}\\right) - x2.t1 \\left(- 2 x2.R_{x}^{2} - 2 x2.R_{z}^{2} + 1\\right) - x2.t2 \\cdot \\left(2 x2.R_{w} x2.R_{x} + 2 x2.R_{y} x2.R_{z}\\right)\\\\l_{00} \\cdot \\left(2 x2.R_{w} x2.R_{y} + 2 x2.R_{x} x2.R_{z}\\right) + l_{01} \\left(- 2 x2.R_{w} x2.R_{x} + 2 x2.R_{y} x2.R_{z}\\right) + l_{02} \\left(- 2 x2.R_{x}^{2} - 2 x2.R_{y}^{2} + 1\\right) - x2.t0 \\cdot \\left(2 x2.R_{w} x2.R_{y} + 2 x2.R_{x} x2.R_{z}\\right) - x2.t1 \\left(- 2 x2.R_{w} x2.R_{x} + 2 x2.R_{y} x2.R_{z}\\right) - x2.t2 \\left(- 2 x2.R_{x}^{2} - 2 x2.R_{y}^{2} + 1\\right)\\end{matrix}\\right]$"
      ],
      "text/plain": [
       "⎡    ⎛          2           2    ⎞                                            \n",
       "⎢l₀₀⋅⎝- 2⋅x2.R_y  - 2⋅x2.R_z  + 1⎠ + l₀₁⋅(2⋅x2.R_w⋅x2.R_z + 2⋅x2.Rₓ⋅x2.R_y) + \n",
       "⎢                                                                             \n",
       "⎢                                               ⎛         2           2    ⎞  \n",
       "⎢ l₀₀⋅(-2⋅x2.R_w⋅x2.R_z + 2⋅x2.Rₓ⋅x2.R_y) + l₀₁⋅⎝- 2⋅x2.Rₓ  - 2⋅x2.R_z  + 1⎠ +\n",
       "⎢                                                                             \n",
       "⎢                                                                             \n",
       "⎣ l₀₀⋅(2⋅x2.R_w⋅x2.R_y + 2⋅x2.Rₓ⋅x2.R_z) + l₀₁⋅(-2⋅x2.R_w⋅x2.Rₓ + 2⋅x2.R_y⋅x2.\n",
       "\n",
       "                                                ⎛          2           2    ⎞ \n",
       "l₀₂⋅(-2⋅x2.R_w⋅x2.R_y + 2⋅x2.Rₓ⋅x2.R_z) - x2.t0⋅⎝- 2⋅x2.R_y  - 2⋅x2.R_z  + 1⎠ \n",
       "                                                                              \n",
       "                                                                              \n",
       " l₀₂⋅(2⋅x2.R_w⋅x2.Rₓ + 2⋅x2.R_y⋅x2.R_z) - x2.t0⋅(-2⋅x2.R_w⋅x2.R_z + 2⋅x2.Rₓ⋅x2\n",
       "                                                                              \n",
       "           ⎛         2           2    ⎞                                       \n",
       "R_z) + l₀₂⋅⎝- 2⋅x2.Rₓ  - 2⋅x2.R_y  + 1⎠ - x2.t0⋅(2⋅x2.R_w⋅x2.R_y + 2⋅x2.Rₓ⋅x2.\n",
       "\n",
       "                                                                              \n",
       "- x2.t1⋅(2⋅x2.R_w⋅x2.R_z + 2⋅x2.Rₓ⋅x2.R_y) - x2.t2⋅(-2⋅x2.R_w⋅x2.R_y + 2⋅x2.Rₓ\n",
       "                                                                              \n",
       "              ⎛         2           2    ⎞                                    \n",
       ".R_y) - x2.t1⋅⎝- 2⋅x2.Rₓ  - 2⋅x2.R_z  + 1⎠ - x2.t2⋅(2⋅x2.R_w⋅x2.Rₓ + 2⋅x2.R_y⋅\n",
       "                                                                              \n",
       "                                                         ⎛         2          \n",
       "R_z) - x2.t1⋅(-2⋅x2.R_w⋅x2.Rₓ + 2⋅x2.R_y⋅x2.R_z) - x2.t2⋅⎝- 2⋅x2.Rₓ  - 2⋅x2.R_\n",
       "\n",
       "        ⎤\n",
       "⋅x2.R_z)⎥\n",
       "        ⎥\n",
       "        ⎥\n",
       "x2.R_z) ⎥\n",
       "        ⎥\n",
       " 2    ⎞ ⎥\n",
       "y  + 1⎠ ⎦"
      ]
     },
     "metadata": {},
     "output_type": "display_data"
    }
   ],
   "source": [
    "v20"
   ]
  },
  {
   "cell_type": "code",
   "execution_count": 32,
   "metadata": {},
   "outputs": [
    {
     "data": {
      "text/plain": [
       "[s,\n",
       " Matrix([\n",
       " [x0.t0],\n",
       " [x0.t1],\n",
       " [x0.t2]]),\n",
       " Matrix([\n",
       " [x1.t0],\n",
       " [x1.t1],\n",
       " [x1.t2]]),\n",
       " Matrix([\n",
       " [x2.t0],\n",
       " [x2.t1],\n",
       " [x2.t2]]),\n",
       " Matrix([\n",
       " [x3.t0],\n",
       " [x3.t1],\n",
       " [x3.t2]])]"
      ]
     },
     "metadata": {},
     "output_type": "display_data"
    },
    {
     "ename": "NotImplementedError",
     "evalue": "unhandled type: <class 'symforce.geo.matrix.Matrix31'>, Matrix([\n[s**3*x3.t0 + 3*s**2*x1.t0*(1 - s)**2 + 3*s**2*x2.t0*(1 - s) + x0.t0*(1 - s)**3],\n[s**3*x3.t1 + 3*s**2*x1.t1*(1 - s)**2 + 3*s**2*x2.t1*(1 - s) + x0.t1*(1 - s)**3],\n[s**3*x3.t2 + 3*s**2*x1.t2*(1 - s)**2 + 3*s**2*x2.t2*(1 - s) + x0.t2*(1 - s)**3]])",
     "output_type": "error",
     "traceback": [
      "\u001b[0;31m---------------------------------------------------------------------------\u001b[0m",
      "\u001b[0;31mNotImplementedError\u001b[0m                       Traceback (most recent call last)",
      "\u001b[1;32m/home/alon18/Desktop/Link to repos/Driller/Idea.ipynb Cell 3'\u001b[0m in \u001b[0;36m<cell line: 3>\u001b[0;34m()\u001b[0m\n\u001b[1;32m      <a href='vscode-notebook-cell:/home/alon18/Desktop/Link%20to%20repos/Driller/Idea.ipynb#ch0000009?line=0'>1</a>\u001b[0m \u001b[39mvars\u001b[39m \u001b[39m=\u001b[39m [t] \u001b[39m+\u001b[39m [x0t] \u001b[39m+\u001b[39m [x1t] \u001b[39m+\u001b[39m [x2t] \u001b[39m+\u001b[39m[x3t]\n\u001b[1;32m      <a href='vscode-notebook-cell:/home/alon18/Desktop/Link%20to%20repos/Driller/Idea.ipynb#ch0000009?line=1'>2</a>\u001b[0m display(\u001b[39mvars\u001b[39m)\n\u001b[0;32m----> <a href='vscode-notebook-cell:/home/alon18/Desktop/Link%20to%20repos/Driller/Idea.ipynb#ch0000009?line=2'>3</a>\u001b[0m sympy\u001b[39m.\u001b[39;49mlambdify(\u001b[39mvars\u001b[39;49m, Lambda)\n",
      "File \u001b[0;32m~/LocalInstalls/miniconda3/envs/symforce/lib/python3.9/site-packages/sympy/utilities/lambdify.py:875\u001b[0m, in \u001b[0;36mlambdify\u001b[0;34m(args, expr, modules, printer, use_imps, dummify, cse)\u001b[0m\n\u001b[1;32m    <a href='file:///home/alon18/LocalInstalls/miniconda3/envs/symforce/lib/python3.9/site-packages/sympy/utilities/lambdify.py?line=872'>873</a>\u001b[0m \u001b[39melse\u001b[39;00m:\n\u001b[1;32m    <a href='file:///home/alon18/LocalInstalls/miniconda3/envs/symforce/lib/python3.9/site-packages/sympy/utilities/lambdify.py?line=873'>874</a>\u001b[0m     cses, _expr \u001b[39m=\u001b[39m (), expr\n\u001b[0;32m--> <a href='file:///home/alon18/LocalInstalls/miniconda3/envs/symforce/lib/python3.9/site-packages/sympy/utilities/lambdify.py?line=874'>875</a>\u001b[0m funcstr \u001b[39m=\u001b[39m funcprinter\u001b[39m.\u001b[39;49mdoprint(funcname, iterable_args, _expr, cses\u001b[39m=\u001b[39;49mcses)\n\u001b[1;32m    <a href='file:///home/alon18/LocalInstalls/miniconda3/envs/symforce/lib/python3.9/site-packages/sympy/utilities/lambdify.py?line=876'>877</a>\u001b[0m \u001b[39m# Collect the module imports from the code printers.\u001b[39;00m\n\u001b[1;32m    <a href='file:///home/alon18/LocalInstalls/miniconda3/envs/symforce/lib/python3.9/site-packages/sympy/utilities/lambdify.py?line=877'>878</a>\u001b[0m imp_mod_lines \u001b[39m=\u001b[39m []\n",
      "File \u001b[0;32m~/LocalInstalls/miniconda3/envs/symforce/lib/python3.9/site-packages/sympy/utilities/lambdify.py:1152\u001b[0m, in \u001b[0;36m_EvaluatorPrinter.doprint\u001b[0;34m(self, funcname, args, expr, cses)\u001b[0m\n\u001b[1;32m   <a href='file:///home/alon18/LocalInstalls/miniconda3/envs/symforce/lib/python3.9/site-packages/sympy/utilities/lambdify.py?line=1148'>1149</a>\u001b[0m     \u001b[39melse\u001b[39;00m:\n\u001b[1;32m   <a href='file:///home/alon18/LocalInstalls/miniconda3/envs/symforce/lib/python3.9/site-packages/sympy/utilities/lambdify.py?line=1149'>1150</a>\u001b[0m         funcbody\u001b[39m.\u001b[39mappend(\u001b[39m'\u001b[39m\u001b[39m{}\u001b[39;00m\u001b[39m = \u001b[39m\u001b[39m{}\u001b[39;00m\u001b[39m'\u001b[39m\u001b[39m.\u001b[39mformat(s, \u001b[39mself\u001b[39m\u001b[39m.\u001b[39m_exprrepr(e)))\n\u001b[0;32m-> <a href='file:///home/alon18/LocalInstalls/miniconda3/envs/symforce/lib/python3.9/site-packages/sympy/utilities/lambdify.py?line=1151'>1152</a>\u001b[0m str_expr \u001b[39m=\u001b[39m _recursive_to_string(\u001b[39mself\u001b[39;49m\u001b[39m.\u001b[39;49m_exprrepr, expr)\n\u001b[1;32m   <a href='file:///home/alon18/LocalInstalls/miniconda3/envs/symforce/lib/python3.9/site-packages/sympy/utilities/lambdify.py?line=1154'>1155</a>\u001b[0m \u001b[39mif\u001b[39;00m \u001b[39m'\u001b[39m\u001b[39m\\n\u001b[39;00m\u001b[39m'\u001b[39m \u001b[39min\u001b[39;00m str_expr:\n\u001b[1;32m   <a href='file:///home/alon18/LocalInstalls/miniconda3/envs/symforce/lib/python3.9/site-packages/sympy/utilities/lambdify.py?line=1155'>1156</a>\u001b[0m     str_expr \u001b[39m=\u001b[39m \u001b[39m'\u001b[39m\u001b[39m(\u001b[39m\u001b[39m{}\u001b[39;00m\u001b[39m)\u001b[39m\u001b[39m'\u001b[39m\u001b[39m.\u001b[39mformat(str_expr)\n",
      "File \u001b[0;32m~/LocalInstalls/miniconda3/envs/symforce/lib/python3.9/site-packages/sympy/utilities/lambdify.py:963\u001b[0m, in \u001b[0;36m_recursive_to_string\u001b[0;34m(doprint, arg)\u001b[0m\n\u001b[1;32m    <a href='file:///home/alon18/LocalInstalls/miniconda3/envs/symforce/lib/python3.9/site-packages/sympy/utilities/lambdify.py?line=960'>961</a>\u001b[0m         left, right \u001b[39m=\u001b[39m \u001b[39m\"\u001b[39m\u001b[39m()\u001b[39m\u001b[39m\"\u001b[39m\n\u001b[1;32m    <a href='file:///home/alon18/LocalInstalls/miniconda3/envs/symforce/lib/python3.9/site-packages/sympy/utilities/lambdify.py?line=961'>962</a>\u001b[0m     \u001b[39melse\u001b[39;00m:\n\u001b[0;32m--> <a href='file:///home/alon18/LocalInstalls/miniconda3/envs/symforce/lib/python3.9/site-packages/sympy/utilities/lambdify.py?line=962'>963</a>\u001b[0m         \u001b[39mraise\u001b[39;00m \u001b[39mNotImplementedError\u001b[39;00m(\u001b[39m\"\u001b[39m\u001b[39munhandled type: \u001b[39m\u001b[39m%s\u001b[39;00m\u001b[39m, \u001b[39m\u001b[39m%s\u001b[39;00m\u001b[39m\"\u001b[39m \u001b[39m%\u001b[39m (\u001b[39mtype\u001b[39m(arg), arg))\n\u001b[1;32m    <a href='file:///home/alon18/LocalInstalls/miniconda3/envs/symforce/lib/python3.9/site-packages/sympy/utilities/lambdify.py?line=963'>964</a>\u001b[0m     \u001b[39mreturn\u001b[39;00m left \u001b[39m+\u001b[39m\u001b[39m'\u001b[39m\u001b[39m, \u001b[39m\u001b[39m'\u001b[39m\u001b[39m.\u001b[39mjoin(_recursive_to_string(doprint, e) \u001b[39mfor\u001b[39;00m e \u001b[39min\u001b[39;00m arg) \u001b[39m+\u001b[39m right\n\u001b[1;32m    <a href='file:///home/alon18/LocalInstalls/miniconda3/envs/symforce/lib/python3.9/site-packages/sympy/utilities/lambdify.py?line=964'>965</a>\u001b[0m \u001b[39melif\u001b[39;00m \u001b[39misinstance\u001b[39m(arg, \u001b[39mstr\u001b[39m):\n",
      "\u001b[0;31mNotImplementedError\u001b[0m: unhandled type: <class 'symforce.geo.matrix.Matrix31'>, Matrix([\n[s**3*x3.t0 + 3*s**2*x1.t0*(1 - s)**2 + 3*s**2*x2.t0*(1 - s) + x0.t0*(1 - s)**3],\n[s**3*x3.t1 + 3*s**2*x1.t1*(1 - s)**2 + 3*s**2*x2.t1*(1 - s) + x0.t1*(1 - s)**3],\n[s**3*x3.t2 + 3*s**2*x1.t2*(1 - s)**2 + 3*s**2*x2.t2*(1 - s) + x0.t2*(1 - s)**3]])"
     ]
    }
   ],
   "source": [
    "vars = [t] + [x0t] + [x1t] + [x2t] +[x3t]\n",
    "display(vars)\n",
    "sympy.lambdify(vars, Lambda)"
   ]
  },
  {
   "cell_type": "code",
   "execution_count": 27,
   "metadata": {},
   "outputs": [
    {
     "data": {
      "image/png": "[encoded data removed]",
      "text/latex": [
       "$\\displaystyle \\left[ s, \\  x0.t0, \\  x0.t1, \\  x0.t2, \\  x1.t0, \\  x1.t1, \\  x1.t2, \\  x2.t0, \\  x2.t1, \\  x2.t2, \\  x3.t0, \\  x3.t1, \\  x3.t2\\right]$"
      ],
      "text/plain": [
       "[s, x0.t0, x0.t1, x0.t2, x1.t0, x1.t1, x1.t2, x2.t0, x2.t1, x2.t2, x3.t0, x3.t\n",
       "1, x3.t2]"
      ]
     },
     "metadata": {},
     "output_type": "display_data"
    },
    {
     "ename": "NotImplementedError",
     "evalue": "unhandled type: <class 'symforce.geo.matrix.Matrix31'>, Matrix([\n[s**3*x3.t0 + 3*s**2*x1.t0*(1 - s)**2 + 3*s**2*x2.t0*(1 - s) + x0.t0*(1 - s)**3],\n[s**3*x3.t1 + 3*s**2*x1.t1*(1 - s)**2 + 3*s**2*x2.t1*(1 - s) + x0.t1*(1 - s)**3],\n[s**3*x3.t2 + 3*s**2*x1.t2*(1 - s)**2 + 3*s**2*x2.t2*(1 - s) + x0.t2*(1 - s)**3]])",
     "output_type": "error",
     "traceback": [
      "\u001b[0;31m---------------------------------------------------------------------------\u001b[0m",
      "\u001b[0;31mNotImplementedError\u001b[0m                       Traceback (most recent call last)",
      "\u001b[1;32m/home/alon18/Desktop/Link to repos/Driller/Idea.ipynb Cell 3'\u001b[0m in \u001b[0;36m<cell line: 3>\u001b[0;34m()\u001b[0m\n\u001b[1;32m      <a href='vscode-notebook-cell:/home/alon18/Desktop/Link%20to%20repos/Driller/Idea.ipynb#ch0000008?line=0'>1</a>\u001b[0m \u001b[39mvars\u001b[39m \u001b[39m=\u001b[39m [t] \u001b[39m+\u001b[39m x0\u001b[39m.\u001b[39mto_tangent()[\u001b[39m3\u001b[39m:] \u001b[39m+\u001b[39m x1\u001b[39m.\u001b[39mto_tangent()[\u001b[39m3\u001b[39m:] \u001b[39m+\u001b[39m x2\u001b[39m.\u001b[39mto_tangent()[\u001b[39m3\u001b[39m:] \u001b[39m+\u001b[39m x3\u001b[39m.\u001b[39mto_tangent()[\u001b[39m3\u001b[39m:]\n\u001b[1;32m      <a href='vscode-notebook-cell:/home/alon18/Desktop/Link%20to%20repos/Driller/Idea.ipynb#ch0000008?line=1'>2</a>\u001b[0m display(\u001b[39mvars\u001b[39m)\n\u001b[0;32m----> <a href='vscode-notebook-cell:/home/alon18/Desktop/Link%20to%20repos/Driller/Idea.ipynb#ch0000008?line=2'>3</a>\u001b[0m sympy\u001b[39m.\u001b[39;49mlambdify(\u001b[39mvars\u001b[39;49m, Lambda)\n",
      "File \u001b[0;32m~/LocalInstalls/miniconda3/envs/symforce/lib/python3.9/site-packages/sympy/utilities/lambdify.py:875\u001b[0m, in \u001b[0;36mlambdify\u001b[0;34m(args, expr, modules, printer, use_imps, dummify, cse)\u001b[0m\n\u001b[1;32m    <a href='file:///home/alon18/LocalInstalls/miniconda3/envs/symforce/lib/python3.9/site-packages/sympy/utilities/lambdify.py?line=872'>873</a>\u001b[0m \u001b[39melse\u001b[39;00m:\n\u001b[1;32m    <a href='file:///home/alon18/LocalInstalls/miniconda3/envs/symforce/lib/python3.9/site-packages/sympy/utilities/lambdify.py?line=873'>874</a>\u001b[0m     cses, _expr \u001b[39m=\u001b[39m (), expr\n\u001b[0;32m--> <a href='file:///home/alon18/LocalInstalls/miniconda3/envs/symforce/lib/python3.9/site-packages/sympy/utilities/lambdify.py?line=874'>875</a>\u001b[0m funcstr \u001b[39m=\u001b[39m funcprinter\u001b[39m.\u001b[39;49mdoprint(funcname, iterable_args, _expr, cses\u001b[39m=\u001b[39;49mcses)\n\u001b[1;32m    <a href='file:///home/alon18/LocalInstalls/miniconda3/envs/symforce/lib/python3.9/site-packages/sympy/utilities/lambdify.py?line=876'>877</a>\u001b[0m \u001b[39m# Collect the module imports from the code printers.\u001b[39;00m\n\u001b[1;32m    <a href='file:///home/alon18/LocalInstalls/miniconda3/envs/symforce/lib/python3.9/site-packages/sympy/utilities/lambdify.py?line=877'>878</a>\u001b[0m imp_mod_lines \u001b[39m=\u001b[39m []\n",
      "File \u001b[0;32m~/LocalInstalls/miniconda3/envs/symforce/lib/python3.9/site-packages/sympy/utilities/lambdify.py:1152\u001b[0m, in \u001b[0;36m_EvaluatorPrinter.doprint\u001b[0;34m(self, funcname, args, expr, cses)\u001b[0m\n\u001b[1;32m   <a href='file:///home/alon18/LocalInstalls/miniconda3/envs/symforce/lib/python3.9/site-packages/sympy/utilities/lambdify.py?line=1148'>1149</a>\u001b[0m     \u001b[39melse\u001b[39;00m:\n\u001b[1;32m   <a href='file:///home/alon18/LocalInstalls/miniconda3/envs/symforce/lib/python3.9/site-packages/sympy/utilities/lambdify.py?line=1149'>1150</a>\u001b[0m         funcbody\u001b[39m.\u001b[39mappend(\u001b[39m'\u001b[39m\u001b[39m{}\u001b[39;00m\u001b[39m = \u001b[39m\u001b[39m{}\u001b[39;00m\u001b[39m'\u001b[39m\u001b[39m.\u001b[39mformat(s, \u001b[39mself\u001b[39m\u001b[39m.\u001b[39m_exprrepr(e)))\n\u001b[0;32m-> <a href='file:///home/alon18/LocalInstalls/miniconda3/envs/symforce/lib/python3.9/site-packages/sympy/utilities/lambdify.py?line=1151'>1152</a>\u001b[0m str_expr \u001b[39m=\u001b[39m _recursive_to_string(\u001b[39mself\u001b[39;49m\u001b[39m.\u001b[39;49m_exprrepr, expr)\n\u001b[1;32m   <a href='file:///home/alon18/LocalInstalls/miniconda3/envs/symforce/lib/python3.9/site-packages/sympy/utilities/lambdify.py?line=1154'>1155</a>\u001b[0m \u001b[39mif\u001b[39;00m \u001b[39m'\u001b[39m\u001b[39m\\n\u001b[39;00m\u001b[39m'\u001b[39m \u001b[39min\u001b[39;00m str_expr:\n\u001b[1;32m   <a href='file:///home/alon18/LocalInstalls/miniconda3/envs/symforce/lib/python3.9/site-packages/sympy/utilities/lambdify.py?line=1155'>1156</a>\u001b[0m     str_expr \u001b[39m=\u001b[39m \u001b[39m'\u001b[39m\u001b[39m(\u001b[39m\u001b[39m{}\u001b[39;00m\u001b[39m)\u001b[39m\u001b[39m'\u001b[39m\u001b[39m.\u001b[39mformat(str_expr)\n",
      "File \u001b[0;32m~/LocalInstalls/miniconda3/envs/symforce/lib/python3.9/site-packages/sympy/utilities/lambdify.py:963\u001b[0m, in \u001b[0;36m_recursive_to_string\u001b[0;34m(doprint, arg)\u001b[0m\n\u001b[1;32m    <a href='file:///home/alon18/LocalInstalls/miniconda3/envs/symforce/lib/python3.9/site-packages/sympy/utilities/lambdify.py?line=960'>961</a>\u001b[0m         left, right \u001b[39m=\u001b[39m \u001b[39m\"\u001b[39m\u001b[39m()\u001b[39m\u001b[39m\"\u001b[39m\n\u001b[1;32m    <a href='file:///home/alon18/LocalInstalls/miniconda3/envs/symforce/lib/python3.9/site-packages/sympy/utilities/lambdify.py?line=961'>962</a>\u001b[0m     \u001b[39melse\u001b[39;00m:\n\u001b[0;32m--> <a href='file:///home/alon18/LocalInstalls/miniconda3/envs/symforce/lib/python3.9/site-packages/sympy/utilities/lambdify.py?line=962'>963</a>\u001b[0m         \u001b[39mraise\u001b[39;00m \u001b[39mNotImplementedError\u001b[39;00m(\u001b[39m\"\u001b[39m\u001b[39munhandled type: \u001b[39m\u001b[39m%s\u001b[39;00m\u001b[39m, \u001b[39m\u001b[39m%s\u001b[39;00m\u001b[39m\"\u001b[39m \u001b[39m%\u001b[39m (\u001b[39mtype\u001b[39m(arg), arg))\n\u001b[1;32m    <a href='file:///home/alon18/LocalInstalls/miniconda3/envs/symforce/lib/python3.9/site-packages/sympy/utilities/lambdify.py?line=963'>964</a>\u001b[0m     \u001b[39mreturn\u001b[39;00m left \u001b[39m+\u001b[39m\u001b[39m'\u001b[39m\u001b[39m, \u001b[39m\u001b[39m'\u001b[39m\u001b[39m.\u001b[39mjoin(_recursive_to_string(doprint, e) \u001b[39mfor\u001b[39;00m e \u001b[39min\u001b[39;00m arg) \u001b[39m+\u001b[39m right\n\u001b[1;32m    <a href='file:///home/alon18/LocalInstalls/miniconda3/envs/symforce/lib/python3.9/site-packages/sympy/utilities/lambdify.py?line=964'>965</a>\u001b[0m \u001b[39melif\u001b[39;00m \u001b[39misinstance\u001b[39m(arg, \u001b[39mstr\u001b[39m):\n",
      "\u001b[0;31mNotImplementedError\u001b[0m: unhandled type: <class 'symforce.geo.matrix.Matrix31'>, Matrix([\n[s**3*x3.t0 + 3*s**2*x1.t0*(1 - s)**2 + 3*s**2*x2.t0*(1 - s) + x0.t0*(1 - s)**3],\n[s**3*x3.t1 + 3*s**2*x1.t1*(1 - s)**2 + 3*s**2*x2.t1*(1 - s) + x0.t1*(1 - s)**3],\n[s**3*x3.t2 + 3*s**2*x1.t2*(1 - s)**2 + 3*s**2*x2.t2*(1 - s) + x0.t2*(1 - s)**3]])"
     ]
    }
   ],
   "source": []
  },
  {
   "cell_type": "code",
   "execution_count": 26,
   "metadata": {},
   "outputs": [
    {
     "data": {
      "text/plain": [
       "sympy.core.symbol.Symbol"
      ]
     },
     "execution_count": 26,
     "metadata": {},
     "output_type": "execute_result"
    }
   ],
   "source": [
    "\n",
    "type(vars[2])\n",
    "\n",
    "# parameter_dict\n",
    "# sm.matrix2numpy(Lambda.subs({t: 0.25, x0: }), dtype=float)"
   ]
  },
  {
   "cell_type": "code",
   "execution_count": 56,
   "metadata": {},
   "outputs": [
    {
     "data": {
      "image/png": "[encoded data removed]",
      "text/latex": [
       "$\\displaystyle \\left[ x0.R_{x}, \\  x0.R_{y}, \\  x0.R_{z}, \\  x0.R_{w}, \\  x0.t0, \\  x0.t1, \\  x0.t2\\right]$"
      ],
      "text/plain": [
       "[x0.Rₓ, x0.R_y, x0.R_z, x0.R_w, x0.t0, x0.t1, x0.t2]"
      ]
     },
     "execution_count": 56,
     "metadata": {},
     "output_type": "execute_result"
    }
   ],
   "source": [
    "x0 = geo.Pose3.symbolic(\"x0\")\n",
    "x0.to_storage()"
   ]
  },
  {
   "cell_type": "code",
   "execution_count": 46,
   "metadata": {},
   "outputs": [],
   "source": [
    "l0 = geo.Vector3.symbolic('l0')"
   ]
  }
 ],
 "metadata": {
  "kernelspec": {
   "display_name": "Python 3.10.6 ('tunnelslam')",
   "language": "python",
   "name": "python3"
  },
  "language_info": {
   "codemirror_mode": {
    "name": "ipython",
    "version": 3
   },
   "file_extension": ".py",
   "mimetype": "text/x-python",
   "name": "python",
   "nbconvert_exporter": "python",
   "pygments_lexer": "ipython3",
   "version": "3.10.6"
  },
  "orig_nbformat": 4,
  "vscode": {
   "interpreter": {
    "hash": "e522d004580c4e59e8d543dd6451286e85cefedf083d58fcfaf7fe37282f1122"
   }
  }
 },
 "nbformat": 4,
 "nbformat_minor": 2
}
